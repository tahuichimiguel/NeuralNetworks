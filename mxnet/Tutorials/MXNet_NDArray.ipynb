{
 "cells": [
  {
   "cell_type": "code",
   "execution_count": 2,
   "metadata": {},
   "outputs": [],
   "source": [
    "import mxnet as mx\n",
    "from mxnet import nd"
   ]
  },
  {
   "cell_type": "code",
   "execution_count": 3,
   "metadata": {
    "collapsed": true
   },
   "outputs": [],
   "source": [
    "#set random seed\n",
    "mx.random.seed(123)"
   ]
  },
  {
   "cell_type": "code",
   "execution_count": 7,
   "metadata": {},
   "outputs": [
    {
     "name": "stdout",
     "output_type": "stream",
     "text": [
      "\n",
      "[[  0.00000000e+00   3.68934881e+19   0.00000000e+00   3.68934881e+19]\n",
      " [  1.55018351e-37   2.19544233e-40  -3.09922530e+26   2.29560714e-40]\n",
      " [  0.00000000e+00   3.68934881e+19  -1.98820301e+09   2.78373545e-40]]\n",
      "<NDArray 3x4 @cpu(0)>\n"
     ]
    }
   ],
   "source": [
    "#Create a 2D NDArray without any values initialized\n",
    "# - Array has floats with arbitrary magnitude and sign\n",
    "# - The array entries are float32 by default\n",
    "x = nd.empty((3,4))\n",
    "\n",
    "# Notice that the print statement states that a CPU is being used\n",
    "# instead of GPU\n",
    "print(x)"
   ]
  },
  {
   "cell_type": "code",
   "execution_count": 10,
   "metadata": {},
   "outputs": [
    {
     "name": "stdout",
     "output_type": "stream",
     "text": [
      "\n",
      "[[ 0.  0.  0.  0.  0.]\n",
      " [ 0.  0.  0.  0.  0.]\n",
      " [ 0.  0.  0.  0.  0.]]\n",
      "<NDArray 3x5 @cpu(0)>\n",
      "\n",
      "[[ 1.  1.  1.  1.]\n",
      " [ 1.  1.  1.  1.]\n",
      " [ 1.  1.  1.  1.]]\n",
      "<NDArray 3x4 @cpu(0)>\n"
     ]
    }
   ],
   "source": [
    "x = nd.zeros((3,5))\n",
    "print(x)\n",
    "\n",
    "x = nd.ones((3,4))\n",
    "print(x)"
   ]
  },
  {
   "cell_type": "code",
   "execution_count": 12,
   "metadata": {},
   "outputs": [
    {
     "name": "stdout",
     "output_type": "stream",
     "text": [
      "\n",
      "[[-0.17074773  1.01052964  1.14151955  0.14561865]\n",
      " [ 0.4252629  -0.04724792 -0.26625201 -0.03935841]\n",
      " [ 1.75082421  0.82531595 -0.73186058  0.85916942]]\n",
      "<NDArray 3x4 @cpu(0)>\n"
     ]
    }
   ],
   "source": [
    "#loc is the mean\n",
    "#scale is standard deviation\n",
    "y = nd.random_normal(loc = 0, scale = 1,shape = (3,4))\n",
    "print(y)"
   ]
  },
  {
   "cell_type": "code",
   "execution_count": 15,
   "metadata": {},
   "outputs": [
    {
     "name": "stdout",
     "output_type": "stream",
     "text": [
      "(3L, 4L)\n",
      "12\n"
     ]
    }
   ],
   "source": [
    "print(y.shape)\n",
    "print(y.size)"
   ]
  },
  {
   "cell_type": "code",
   "execution_count": 21,
   "metadata": {},
   "outputs": [
    {
     "name": "stdout",
     "output_type": "stream",
     "text": [
      "\n",
      "[[ 0.82925224  2.01052952  2.14151955  1.14561868]\n",
      " [ 1.42526293  0.95275205  0.73374796  0.96064162]\n",
      " [ 2.75082421  1.82531595  0.26813942  1.85916948]]\n",
      "<NDArray 3x4 @cpu(0)>\n",
      "\n",
      "[[ 0.84303421  2.74705553  3.13152313  1.15675497]\n",
      " [ 1.52999258  0.95385087  0.76624602  0.96140605]\n",
      " [ 5.75934744  2.28260183  0.48101321  2.36119866]]\n",
      "<NDArray 3x4 @cpu(0)>\n"
     ]
    },
    {
     "data": {
      "text/plain": [
       "\n",
       "[[ 4.  4.  4.]\n",
       " [ 4.  4.  4.]\n",
       " [ 4.  4.  4.]]\n",
       "<NDArray 3x3 @cpu(0)>"
      ]
     },
     "execution_count": 21,
     "metadata": {},
     "output_type": "execute_result"
    }
   ],
   "source": [
    "#Standard Mathematical Operations\n",
    "\n",
    "##Element-wise Addition\n",
    "print(x+y)\n",
    "\n",
    "##Element-wise Multiplication\n",
    "x*y\n",
    "\n",
    "##Exponentiation\n",
    "print(nd.exp(y))\n",
    "\n",
    "##Matrix Dot Product & Array Transpose\n",
    "nd.dot(x,x.T)"
   ]
  },
  {
   "cell_type": "code",
   "execution_count": 30,
   "metadata": {
    "scrolled": true
   },
   "outputs": [
    {
     "name": "stdout",
     "output_type": "stream",
     "text": [
      "New Memory Allocated\n",
      "('id(y):', 4532755280)\n",
      "('id(y):', 4441626000)\n",
      "\n",
      "Reuse Memory\n",
      "id(y): 4441626000\n",
      "id(y): 4441626000\n",
      "\n",
      "id(y): 4441626000\n",
      "id(y): 4441626000\n"
     ]
    }
   ],
   "source": [
    "#In-Place Operations with MXNET\n",
    "\n",
    "##Not in-place operations\n",
    "print('New Memory Allocated')\n",
    "print('id(y):',id(y))\n",
    "y = y+x\n",
    "print('id(y):',id(y))\n",
    "\n",
    "##In-place operation <but still makes use of a temporary buffer>\n",
    "print('\\nReuse Memory')\n",
    "print('id(y): %s' %(id(y)))\n",
    "y[:] = y+x\n",
    "print('id(y): %s' %(id(y)))\n",
    "\n",
    "##Use mdnet ndarray elemwise_add operation for in-place \n",
    "##operation without a buffer using the `out` keyword arg\n",
    "print('\\nid(y): %s' %(id(y)))\n",
    "nd.elemwise_add(x,y,out = y)\n",
    "print('id(y): %s' %(id(y)))\n"
   ]
  },
  {
   "cell_type": "code",
   "execution_count": 34,
   "metadata": {},
   "outputs": [
    {
     "name": "stdout",
     "output_type": "stream",
     "text": [
      "<class 'mxnet.ndarray.ndarray.NDArray'>\n",
      "<type 'numpy.ndarray'>\n"
     ]
    }
   ],
   "source": [
    "#Converting mxnet ndarray to numpy\n",
    "print(type(y))\n",
    "print(type(y.asnumpy()))"
   ]
  },
  {
   "cell_type": "markdown",
   "metadata": {},
   "source": [
    "## Context Management\n",
    "\n",
    "One of the key features that differentiates MXNet from NumPy \n",
    "is its support for diverse hardware devices.\n",
    "\n",
    "In MXNet, every array has a context. One context could be the CPU. Other contexts might be various GPUs. Things can get even hairier when we deploy jobs across multiple servers. By assigning arrays to contexts intelligently, we can minimize the time spent transferring data between devices.\n",
    "\n",
    "For example, when training neural networks on a server with a GPU, we typically prefer for the model’s parameters to live on the GPU. "
   ]
  },
  {
   "cell_type": "code",
   "execution_count": 41,
   "metadata": {},
   "outputs": [
    {
     "name": "stdout",
     "output_type": "stream",
     "text": [
      "\n",
      "[[ 1.  1.  1.]\n",
      " [ 1.  1.  1.]\n",
      " [ 1.  1.  1.]]\n",
      "<NDArray 3x3 @cpu(0)>\n",
      "\n",
      "context of z: cpu(0)\n"
     ]
    }
   ],
   "source": [
    "#The `ctx` parameter specifies the context\n",
    "z = nd.ones(shape=(3,3), ctx=mx.cpu(0))\n",
    "print(z)\n",
    "print('\\ncontext of z: %s' % (z.context))\n",
    "\n",
    "##NOTE: Operations on multiple ndarrays requires them all\n",
    "# to be on the same context. Transferring variables between \n",
    "# contexts is a slow process."
   ]
  },
  {
   "cell_type": "code",
   "execution_count": 46,
   "metadata": {},
   "outputs": [
    {
     "name": "stdout",
     "output_type": "stream",
     "text": [
      "('id(z):', 4540224720)\n",
      "('id(z):', 4533493136)\n",
      "('id(m):', 4533493136)\n",
      "('id(m):', 4532754576)\n",
      "\n",
      "[[ 1.  1.  1.  1.]\n",
      " [ 1.  1.  1.  1.]\n",
      " [ 1.  1.  1.  1.]]\n",
      "<NDArray 3x4 @cpu(0)>\n"
     ]
    }
   ],
   "source": [
    "print('id(z):', id(z))\n",
    "z = z.copyto(mx.cpu(0))\n",
    "print('id(z):', id(z))\n",
    "\n",
    "#as_in_context(...) allocates new memory if the variable is\n",
    "#not already present on the specified context\n",
    "m = z.as_in_context(mx.cpu(0))\n",
    "print('id(m):', id(m))\n",
    "m = x.as_in_context(mx.cpu(0))\n",
    "print('id(m):', id(m))\n",
    "print(m)"
   ]
  },
  {
   "cell_type": "code",
   "execution_count": null,
   "metadata": {
    "collapsed": true
   },
   "outputs": [],
   "source": []
  },
  {
   "cell_type": "code",
   "execution_count": null,
   "metadata": {
    "collapsed": true
   },
   "outputs": [],
   "source": []
  },
  {
   "cell_type": "code",
   "execution_count": null,
   "metadata": {
    "collapsed": true
   },
   "outputs": [],
   "source": []
  },
  {
   "cell_type": "code",
   "execution_count": null,
   "metadata": {
    "collapsed": true
   },
   "outputs": [],
   "source": []
  },
  {
   "cell_type": "code",
   "execution_count": null,
   "metadata": {
    "collapsed": true
   },
   "outputs": [],
   "source": []
  },
  {
   "cell_type": "code",
   "execution_count": null,
   "metadata": {
    "collapsed": true
   },
   "outputs": [],
   "source": []
  },
  {
   "cell_type": "code",
   "execution_count": null,
   "metadata": {
    "collapsed": true
   },
   "outputs": [],
   "source": []
  },
  {
   "cell_type": "code",
   "execution_count": null,
   "metadata": {
    "collapsed": true
   },
   "outputs": [],
   "source": []
  },
  {
   "cell_type": "code",
   "execution_count": null,
   "metadata": {
    "collapsed": true
   },
   "outputs": [],
   "source": []
  },
  {
   "cell_type": "code",
   "execution_count": null,
   "metadata": {
    "collapsed": true
   },
   "outputs": [],
   "source": []
  }
 ],
 "metadata": {
  "kernelspec": {
   "display_name": "Python 2",
   "language": "python",
   "name": "python2"
  },
  "language_info": {
   "codemirror_mode": {
    "name": "ipython",
    "version": 2
   },
   "file_extension": ".py",
   "mimetype": "text/x-python",
   "name": "python",
   "nbconvert_exporter": "python",
   "pygments_lexer": "ipython2",
   "version": "2.7.13"
  }
 },
 "nbformat": 4,
 "nbformat_minor": 2
}
