{
 "cells": [
  {
   "cell_type": "code",
   "execution_count": 28,
   "metadata": {
    "collapsed": true
   },
   "outputs": [],
   "source": [
    "import mxnet as mx\n",
    "from mxnet import nd, autograd, gluon"
   ]
  },
  {
   "cell_type": "markdown",
   "metadata": {},
   "source": [
    "### Set Context"
   ]
  },
  {
   "cell_type": "code",
   "execution_count": 29,
   "metadata": {
    "collapsed": true
   },
   "outputs": [],
   "source": [
    "data_ctx = mx.cpu()\n",
    "model_ctx = mx.cpu()"
   ]
  },
  {
   "cell_type": "markdown",
   "metadata": {},
   "source": [
    "### Build Dataset"
   ]
  },
  {
   "cell_type": "code",
   "execution_count": 30,
   "metadata": {
    "collapsed": true
   },
   "outputs": [],
   "source": [
    "num_inputs = 2\n",
    "num_outputs = 1\n",
    "num_examples = 10000\n",
    "\n",
    "def real_fn(X):\n",
    "    return 2*X[:,0] - 3.4*X[:,1] + 4.2\n",
    "\n",
    "X = nd.random_normal(shape = (num_examples,num_inputs))\n",
    "noise = 0.01*nd.random_normal(shape = (num_examples,))\n",
    "\n",
    "y = real_fn(X)+noise"
   ]
  },
  {
   "cell_type": "markdown",
   "metadata": {},
   "source": [
    "### Load the Data Iterator"
   ]
  },
  {
   "cell_type": "code",
   "execution_count": 31,
   "metadata": {
    "collapsed": true
   },
   "outputs": [],
   "source": [
    "batch_size = 4\n",
    "train_data = gluon.data.DataLoader(gluon.data.ArrayDataset(X,y)\n",
    "                                  ,batch_size = batch_size\n",
    "                                  , shuffle = True)"
   ]
  },
  {
   "cell_type": "markdown",
   "metadata": {},
   "source": [
    "### Define the Model/Network Using Gluon\n",
    "\n",
    "While it's good ot know how to build NN from scratch, we cane use gluon to compose an NN from **predefined node layers**.\n",
    "\n",
    "For a linear model, the appropriate layer type is **Dense**. This is exactly a 'fully connected layer' where every node in the input is connected to every node in the subsequent layer."
   ]
  },
  {
   "cell_type": "code",
   "execution_count": 32,
   "metadata": {
    "collapsed": true
   },
   "outputs": [],
   "source": [
    "#gluon.nn.Dense(self, units, activation=None, use_bias=True\n",
    "#       , flatten=True, weight_initializer=None\n",
    "#       , bias_initializer='zeros', in_units=0, **kwargs)\n",
    "\n",
    "#Parameters (abbreviated)\n",
    "#----------\n",
    "#units : int\n",
    "#    Dimensionality of the output space.\n",
    "# in_units : int, optional\n",
    "#     Size of the input data. If not specified, initialization will be\n",
    "#     deferred to the first time `forward` is called and `in_units`\n",
    "#     will be inferred from the shape of input data.\n",
    "\n",
    "net = gluon.nn.Dense(units = 1, in_units = 2)"
   ]
  },
  {
   "cell_type": "code",
   "execution_count": 33,
   "metadata": {},
   "outputs": [
    {
     "name": "stdout",
     "output_type": "stream",
     "text": [
      "Parameter dense1_weight (shape=(1, 2), dtype=<type 'numpy.float32'>)\n",
      "Parameter dense1_bias (shape=(1,), dtype=<type 'numpy.float32'>)\n"
     ]
    }
   ],
   "source": [
    "print net.weight\n",
    "print net.bias"
   ]
  },
  {
   "cell_type": "code",
   "execution_count": 34,
   "metadata": {},
   "outputs": [
    {
     "name": "stdout",
     "output_type": "stream",
     "text": [
      "dense1_ (\n",
      "  Parameter dense1_weight (shape=(1, 2), dtype=<type 'numpy.float32'>)\n",
      "  Parameter dense1_bias (shape=(1,), dtype=<type 'numpy.float32'>)\n",
      ")\n",
      "<class 'mxnet.gluon.parameter.ParameterDict'>\n"
     ]
    }
   ],
   "source": [
    "#View all Parameters of NN\n",
    "print(net.collect_params())\n",
    "print(type(net.collect_params()))"
   ]
  },
  {
   "cell_type": "code",
   "execution_count": 36,
   "metadata": {},
   "outputs": [
    {
     "data": {
      "text/plain": [
       "['dense1_weight', 'dense1_bias']"
      ]
     },
     "execution_count": 36,
     "metadata": {},
     "output_type": "execute_result"
    }
   ],
   "source": [
    "#Access parameters the same was as using a dict\n",
    "a=net.collect_params()\n",
    "a.keys()"
   ]
  },
  {
   "cell_type": "markdown",
   "metadata": {},
   "source": [
    "### Initialize Parameters (Deferred Initialization)"
   ]
  },
  {
   "cell_type": "code",
   "execution_count": 37,
   "metadata": {},
   "outputs": [],
   "source": [
    "#Need to initialize values via gluon before running net\n",
    "#    - This is done by calling the ParameterDict method .initialize() \n",
    "#    - This requires an initializer and a context for the parameters\n",
    "\n",
    "net.collect_params().initialize(mx.init.Normal(sigma = 1.)\n",
    "                               ,ctx = model_ctx)\n",
    "\n",
    "#NOTE: This only associates each parameter with an initializer.\n",
    "#    The actual initialization is deferred until the first forward\n",
    "#    pass is executed\n"
   ]
  },
  {
   "cell_type": "code",
   "execution_count": 38,
   "metadata": {},
   "outputs": [
    {
     "data": {
      "text/plain": [
       "\n",
       "[[-11.15963078]]\n",
       "<NDArray 1x1 @cpu(0)>"
      ]
     },
     "execution_count": 38,
     "metadata": {},
     "output_type": "execute_result"
    }
   ],
   "source": [
    "#This function call invokes the net's forward() method\n",
    "example_data = nd.array([[4,7]])\n",
    "net(example_data)"
   ]
  },
  {
   "cell_type": "markdown",
   "metadata": {},
   "source": [
    "### Define Loss"
   ]
  },
  {
   "cell_type": "code",
   "execution_count": 39,
   "metadata": {
    "collapsed": true
   },
   "outputs": [],
   "source": [
    "square_loss = gluon.loss.L2Loss()"
   ]
  },
  {
   "cell_type": "markdown",
   "metadata": {},
   "source": [
    "### Optimizer Using a gluon Trainer\n",
    "Instead of writing stochastic gradient descent from scratch every time, we can instantiate a \"gluon.Trainer\", passing it a dictionary of parameters. "
   ]
  },
  {
   "cell_type": "code",
   "execution_count": 41,
   "metadata": {
    "collapsed": true
   },
   "outputs": [],
   "source": [
    "trainer = gluon.Trainer(net.collect_params()\n",
    "                       , 'sgd'\n",
    "                       , {'learning_rate':0.0001}) "
   ]
  },
  {
   "cell_type": "markdown",
   "metadata": {},
   "source": [
    "### Execute a Training Loop"
   ]
  },
  {
   "cell_type": "code",
   "execution_count": 46,
   "metadata": {},
   "outputs": [
    {
     "name": "stdout",
     "output_type": "stream",
     "text": [
      "Epoch 0, normalized_loss: 0.0202372727848\n",
      "Epoch 1, normalized_loss: 0.0123278257982\n",
      "Epoch 2, normalized_loss: 0.00751192544874\n",
      "Epoch 3, normalized_loss: 0.00457952898539\n",
      "Epoch 4, normalized_loss: 0.0027938602994\n",
      "Epoch 5, normalized_loss: 0.00170660491722\n",
      "Epoch 6, normalized_loss: 0.00104423639663\n",
      "Epoch 7, normalized_loss: 0.000640835082722\n",
      "Epoch 8, normalized_loss: 0.000395125843363\n",
      "Epoch 9, normalized_loss: 0.000245529694608\n",
      "Epoch 10, normalized_loss: 0.000154390844745\n",
      "Epoch 11, normalized_loss: 9.8886670886e-05\n",
      "Epoch 12, normalized_loss: 6.50722414267e-05\n",
      "Epoch 13, normalized_loss: 4.44612520995e-05\n",
      "Epoch 14, normalized_loss: 3.18912966587e-05\n",
      "Epoch 15, normalized_loss: 2.42528067182e-05\n",
      "Epoch 16, normalized_loss: 1.96013280604e-05\n",
      "Epoch 17, normalized_loss: 1.67685518525e-05\n",
      "Epoch 18, normalized_loss: 1.5050103391e-05\n",
      "Epoch 19, normalized_loss: 1.399571383e-05\n"
     ]
    }
   ],
   "source": [
    "epochs = 20\n",
    "loss_sequence = []\n",
    "num_batches = num_examples/batch_size\n",
    "\n",
    "for e in range(epochs):\n",
    "    cumulative_loss = 0\n",
    "    \n",
    "    #inner loop\n",
    "    for i, (data,label) in enumerate(train_data):\n",
    "        data = data.as_in_context(model_ctx)\n",
    "        label = label.as_in_context(model_ctx)\n",
    "        \n",
    "        with autograd.record():\n",
    "            #forward pass\n",
    "            output = net(data)\n",
    "            loss = square_loss(output,label)\n",
    "\n",
    "        #backward pass\n",
    "        loss.backward()\n",
    "        \n",
    "        #execute optimizer\n",
    "        trainer.step(batch_size)\n",
    "        \n",
    "        cumulative_loss += nd.mean(loss).asscalar()\n",
    "    \n",
    "    #Progress\n",
    "    print('Epoch %s, normalized_loss: %s' % (e,cumulative_loss/num_examples))\n",
    "    loss_sequence.append(cumulative_loss)\n",
    "        \n",
    "        "
   ]
  },
  {
   "cell_type": "markdown",
   "metadata": {},
   "source": [
    "### Training Visualization"
   ]
  },
  {
   "cell_type": "code",
   "execution_count": 47,
   "metadata": {},
   "outputs": [
    {
     "data": {
      "image/png": "[encoded data removed]",
      "text/plain": [
       "<matplotlib.figure.Figure at 0x10d0ba7d0>"
      ]
     },
     "metadata": {},
     "output_type": "display_data"
    }
   ],
   "source": [
    "%matplotlib inline\n",
    "import matplotlib.pyplot as plt\n",
    "\n",
    "plt.figure(figsize = (8,6))\n",
    "plt.plot(loss_sequence)\n",
    "\n",
    "# Adding some bells and whistles to the plot\n",
    "plt.grid(True, which=\"both\")\n",
    "plt.xlabel('epoch',fontsize=14)\n",
    "plt.ylabel('average loss',fontsize=14)\n",
    "plt.yscale('log')"
   ]
  },
  {
   "cell_type": "markdown",
   "metadata": {},
   "source": [
    "### Accessing the Learned Model Parameters\n",
    "\n",
    "Since we generated the data from a Gaussian linear regression model, we want to make sure that the learner managed to recover the model parameters, which were set to weight 2,−3.4 with an offset of 4.2."
   ]
  },
  {
   "cell_type": "code",
   "execution_count": 48,
   "metadata": {},
   "outputs": [
    {
     "name": "stdout",
     "output_type": "stream",
     "text": [
      "('dense1_weight', \n",
      "[[ 1.99819124 -3.39892411]]\n",
      "<NDArray 1x2 @cpu(0)>)\n",
      "('dense1_bias', \n",
      "[ 4.19755602]\n",
      "<NDArray 1 @cpu(0)>)\n"
     ]
    }
   ],
   "source": [
    "params = net.collect_params()\n",
    "\n",
    "for param in params.values():\n",
    "    print(param.name,param.data())"
   ]
  },
  {
   "cell_type": "code",
   "execution_count": null,
   "metadata": {
    "collapsed": true
   },
   "outputs": [],
   "source": []
  },
  {
   "cell_type": "code",
   "execution_count": null,
   "metadata": {
    "collapsed": true
   },
   "outputs": [],
   "source": []
  },
  {
   "cell_type": "code",
   "execution_count": null,
   "metadata": {
    "collapsed": true
   },
   "outputs": [],
   "source": []
  },
  {
   "cell_type": "code",
   "execution_count": null,
   "metadata": {
    "collapsed": true
   },
   "outputs": [],
   "source": []
  },
  {
   "cell_type": "code",
   "execution_count": 50,
   "metadata": {
    "collapsed": true
   },
   "outputs": [],
   "source": [
    "?loss.backward()"
   ]
  }
 ],
 "metadata": {
  "kernelspec": {
   "display_name": "Python 2",
   "language": "python",
   "name": "python2"
  },
  "language_info": {
   "codemirror_mode": {
    "name": "ipython",
    "version": 2
   },
   "file_extension": ".py",
   "mimetype": "text/x-python",
   "name": "python",
   "nbconvert_exporter": "python",
   "pygments_lexer": "ipython2",
   "version": "2.7.13"
  }
 },
 "nbformat": 4,
 "nbformat_minor": 2
}
